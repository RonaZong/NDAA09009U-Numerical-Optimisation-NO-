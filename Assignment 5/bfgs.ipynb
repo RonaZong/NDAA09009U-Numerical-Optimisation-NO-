{
 "cells": [
  {
   "cell_type": "code",
   "execution_count": 1,
   "metadata": {},
   "outputs": [],
   "source": [
    "import benchmark_functions as bf\n",
    "import numpy as np\n",
    "import scipy.optimize as opt\n",
    "import matplotlib.pyplot as plt\n"
   ]
  },
  {
   "cell_type": "code",
   "execution_count": 2,
   "metadata": {},
   "outputs": [],
   "source": [
    "def backtracking_line_search(f, myfprime, xk, pk, alpha=1.0, rho=0.5, c=0.0001, maxiter=100):\n",
    "        assert alpha > 0\n",
    "        assert 0 < rho < 1\n",
    "        assert 0 < c < 1\n",
    "\n",
    "        for _ in range(maxiter):\n",
    "            if f(xk + alpha * pk) <= f(xk) + c * alpha * myfprime(xk) @ pk:\n",
    "                break\n",
    "            alpha *= rho\n",
    "\n",
    "        return alpha"
   ]
  },
  {
   "cell_type": "code",
   "execution_count": 6,
   "metadata": {
    "pycharm": {
     "name": "#%%\n"
    }
   },
   "outputs": [],
   "source": [
    "def is_positive_definite(x):\n",
    "    return np.all(np.linalg.eigvals(x) > 0)\n",
    "\n",
    "\n",
    "def BFGS(x, f, g, h, max_iteration=1000):\n",
    "    d = len(x)\n",
    "    B_tmp = h(x)\n",
    "    B = B_tmp if is_positive_definite(B_tmp) else np.eye(d)\n",
    "    iteration = 0\n",
    "    epsilon = 1e-5\n",
    "    data = [f(x)]\n",
    "    gradient = g(x)\n",
    "    H = np.linalg.inv(B)\n",
    "    p0 = -1 * np.dot(H, gradient)\n",
    "    alhpa0 = backtracking_line_search(f, g, x, p0)\n",
    "    #6.17\n",
    "    while iteration < max_iteration:\n",
    "        if np.linalg.norm(gradient) < epsilon:\n",
    "            break\n",
    "        #p = -1 * np.linalg.solve(B, gradient)\n",
    "        p = -1 * np.dot(H, gradient)\n",
    "        if iteration == 0:\n",
    "            p = alhpa0 * p\n",
    "        alpha, _, _, _, _, _ = opt.line_search(f=f, myfprime=g, xk=x, pk=p)\n",
    "        # if alpha is None:\n",
    "        #     alpha = my_opt.backtracking_line_search(f, g, x, p)\n",
    "        s = alpha * p\n",
    "        x_new = x + s\n",
    "        gradient_new = g(x_new)\n",
    "        y = gradient_new - gradient\n",
    "        if np.dot(s, y) >= 0:\n",
    "            rho = 1 / (y @ s)\n",
    "            H = (np.identity(d) - rho * np.outer(s, y)) @ H @ (\n",
    "                    np.identity(d) - rho * np.outer(y, s)) + rho * np.outer(s, s)\n",
    "            # 6.19\n",
    "            # Bs = np.dot(B, s)\n",
    "            # ys = np.dot(y, s)\n",
    "            # sBs = np.dot(np.dot(s, B), s)\n",
    "            # B = B + np.outer(y, y) / ys - np.outer(Bs, Bs) / sBs\n",
    "        data.append(f(x_new))\n",
    "        iteration += 1\n",
    "        x = x_new\n",
    "        gradient = gradient_new\n",
    "    final_y = f(x)\n",
    "    #final coordinate,final f(x),number of iteration,data for convergence line\n",
    "    return x, final_y, iteration, data\n",
    "\n",
    "\n",
    "def plot(xs):\n",
    "    plt.xlabel(\"n_iteration\")\n",
    "    plt.ylabel(\"f(x)\")\n",
    "    plt.yscale(\"log\")\n",
    "    plt.plot(np.arange(len(xs)), xs)\n",
    "    plt.show()"
   ]
  },
  {
   "cell_type": "markdown",
   "metadata": {},
   "source": [
    "f1"
   ]
  },
  {
   "cell_type": "code",
   "execution_count": 7,
   "metadata": {
    "pycharm": {
     "name": "#%%\n"
    }
   },
   "outputs": [
    {
     "name": "stdout",
     "output_type": "stream",
     "text": [
      "final x: [0.00000000e+00 3.55271368e-15 0.00000000e+00]\n",
      "final f(x):3.9913555480969773e-28\n",
      "n_iteration:1\n"
     ]
    },
    {
     "data": {
      "image/png": "[encoded data removed]",
      "text/plain": [
       "<Figure size 432x288 with 1 Axes>"
      ]
     },
     "metadata": {
      "needs_background": "light"
     },
     "output_type": "display_data"
    }
   ],
   "source": [
    "input_data1 = np.array([10, 20, 30])\n",
    "f1_x, f1_final_y, f1_n_iteration, f1_convergence_line = BFGS(input_data1, bf.ellipsoid, bf.ellipsoid_gradient,\n",
    "                                                             bf.ellipsoid_hessian)\n",
    "print(f\"final x: {f1_x}\")\n",
    "print(f\"final f(x):{f1_final_y}\")\n",
    "print(f\"n_iteration:{f1_n_iteration}\")\n",
    "plot(f1_convergence_line)"
   ]
  },
  {
   "cell_type": "markdown",
   "metadata": {},
   "source": [
    "f2"
   ]
  },
  {
   "cell_type": "code",
   "execution_count": 8,
   "metadata": {
    "pycharm": {
     "name": "#%%\n"
    }
   },
   "outputs": [
    {
     "name": "stderr",
     "output_type": "stream",
     "text": [
      "C:\\ProgramData\\Anaconda3\\lib\\site-packages\\scipy\\optimize\\linesearch.py:478: LineSearchWarning: The line search algorithm did not converge\n",
      "  warn('The line search algorithm did not converge', LineSearchWarning)\n",
      "C:\\ProgramData\\Anaconda3\\lib\\site-packages\\scipy\\optimize\\linesearch.py:327: LineSearchWarning: The line search algorithm did not converge\n",
      "  warn('The line search algorithm did not converge', LineSearchWarning)\n"
     ]
    },
    {
     "name": "stdout",
     "output_type": "stream",
     "text": [
      "final x: [1.00000009 1.00000018]\n",
      "final f(x):8.704873821200932e-15\n",
      "n_iteration:114\n"
     ]
    },
    {
     "data": {
      "image/png": "[encoded data removed]",
      "text/plain": [
       "<Figure size 432x288 with 1 Axes>"
      ]
     },
     "metadata": {
      "needs_background": "light"
     },
     "output_type": "display_data"
    }
   ],
   "source": [
    "input_data2 = np.array([20, 20])\n",
    "f2_x, f2_final_y, f2_n_iteration, f2_convergence_line = BFGS(input_data2, bf.rosenbrock_banana,\n",
    "                                                             bf.rosenbrock_banana_gradient,\n",
    "                                                             bf.rosenbrock_banana_hessian)\n",
    "print(f\"final x: {f2_x}\")\n",
    "print(f\"final f(x):{f2_final_y}\")\n",
    "print(f\"n_iteration:{f2_n_iteration}\")\n",
    "plot(f2_convergence_line)"
   ]
  },
  {
   "cell_type": "markdown",
   "metadata": {},
   "source": [
    "f3"
   ]
  },
  {
   "cell_type": "code",
   "execution_count": 9,
   "metadata": {
    "pycharm": {
     "name": "#%%\n"
    }
   },
   "outputs": [
    {
     "name": "stdout",
     "output_type": "stream",
     "text": [
      "final x: [-5.62507490e-12 -6.72995875e-13 -1.26274578e-13  7.22317865e-13\n",
      " -2.35183302e-14]\n",
      "final f(x):-9.210340371976182\n",
      "n_iteration:64\n"
     ]
    },
    {
     "name": "stderr",
     "output_type": "stream",
     "text": [
      "C:\\ProgramData\\Anaconda3\\lib\\site-packages\\scipy\\optimize\\linesearch.py:478: LineSearchWarning: The line search algorithm did not converge\n",
      "  warn('The line search algorithm did not converge', LineSearchWarning)\n",
      "C:\\ProgramData\\Anaconda3\\lib\\site-packages\\scipy\\optimize\\linesearch.py:327: LineSearchWarning: The line search algorithm did not converge\n",
      "  warn('The line search algorithm did not converge', LineSearchWarning)\n"
     ]
    },
    {
     "data": {
      "image/png": "[encoded data removed]",
      "text/plain": [
       "<Figure size 432x288 with 1 Axes>"
      ]
     },
     "metadata": {
      "needs_background": "light"
     },
     "output_type": "display_data"
    }
   ],
   "source": [
    "input_data3 = np.array([10, 20, 30, 40, 50])\n",
    "f3_x, f3_final_y, f3_n_iteration, f3_convergence_line = BFGS(input_data3, bf.log_ellipsoid,\n",
    "                                                             bf.log_ellipsoid_gradient, bf.log_ellipsoid_hessian)\n",
    "print(f\"final x: {f3_x}\")\n",
    "print(f\"final f(x):{f3_final_y}\")\n",
    "print(f\"n_iteration:{f3_n_iteration}\")\n",
    "plot(f3_convergence_line)"
   ]
  },
  {
   "cell_type": "markdown",
   "metadata": {},
   "source": [
    "f4"
   ]
  },
  {
   "cell_type": "code",
   "execution_count": 10,
   "metadata": {
    "pycharm": {
     "name": "#%%\n"
    }
   },
   "outputs": [
    {
     "name": "stdout",
     "output_type": "stream",
     "text": [
      "final x: [0.0001912 0.0001912 0.0001912]\n",
      "final f(x):1.8304879267771598e-07\n",
      "n_iteration:8\n"
     ]
    },
    {
     "data": {
      "image/png": "[encoded data removed]",
      "text/plain": [
       "<Figure size 432x288 with 1 Axes>"
      ]
     },
     "metadata": {
      "needs_background": "light"
     },
     "output_type": "display_data"
    }
   ],
   "source": [
    "input_data4 = np.array([10, 20, 30])\n",
    "f4_x, f4_final_y, f4_n_iteration, f4_convergence_line = BFGS(input_data4, bf.attractive_sector,\n",
    "                                                             bf.attractive_sector_gradient,\n",
    "                                                             bf.attractive_sector_hessian)\n",
    "print(f\"final x: {f4_x}\")\n",
    "print(f\"final f(x):{f4_final_y}\")\n",
    "print(f\"n_iteration:{f4_n_iteration}\")\n",
    "plot(f4_convergence_line)"
   ]
  },
  {
   "cell_type": "markdown",
   "metadata": {},
   "source": [
    "f5"
   ]
  },
  {
   "cell_type": "code",
   "execution_count": 11,
   "metadata": {
    "pycharm": {
     "name": "#%%\n"
    }
   },
   "outputs": [
    {
     "name": "stderr",
     "output_type": "stream",
     "text": [
      "C:\\ProgramData\\Anaconda3\\lib\\site-packages\\scipy\\optimize\\linesearch.py:327: LineSearchWarning: The line search algorithm did not converge\n",
      "  warn('The line search algorithm did not converge', LineSearchWarning)\n"
     ]
    },
    {
     "ename": "TypeError",
     "evalue": "unsupported operand type(s) for *: 'NoneType' and 'float'",
     "output_type": "error",
     "traceback": [
      "\u001b[1;31m---------------------------------------------------------------------------\u001b[0m",
      "\u001b[1;31mTypeError\u001b[0m                                 Traceback (most recent call last)",
      "\u001b[1;32m<ipython-input-11-0b92a1cf9c43>\u001b[0m in \u001b[0;36m<module>\u001b[1;34m\u001b[0m\n\u001b[0;32m      1\u001b[0m \u001b[0minput_data5\u001b[0m \u001b[1;33m=\u001b[0m \u001b[0mnp\u001b[0m\u001b[1;33m.\u001b[0m\u001b[0marray\u001b[0m\u001b[1;33m(\u001b[0m\u001b[1;33m[\u001b[0m\u001b[1;36m100\u001b[0m\u001b[1;33m,\u001b[0m \u001b[1;36m200\u001b[0m\u001b[1;33m,\u001b[0m \u001b[1;36m600\u001b[0m\u001b[1;33m]\u001b[0m\u001b[1;33m)\u001b[0m\u001b[1;33m\u001b[0m\u001b[1;33m\u001b[0m\u001b[0m\n\u001b[1;32m----> 2\u001b[1;33m f5_x, f5_final_y, f5_n_iteration, f5_convergence_line = BFGS(input_data5, bf.sum_different_powers,\n\u001b[0m\u001b[0;32m      3\u001b[0m                                                              \u001b[0mbf\u001b[0m\u001b[1;33m.\u001b[0m\u001b[0msum_different_powers_gradient\u001b[0m\u001b[1;33m,\u001b[0m\u001b[1;33m\u001b[0m\u001b[1;33m\u001b[0m\u001b[0m\n\u001b[0;32m      4\u001b[0m                                                              bf.sum_different_powers_hessian)\n\u001b[0;32m      5\u001b[0m \u001b[0mprint\u001b[0m\u001b[1;33m(\u001b[0m\u001b[1;34mf\"final x: {f5_x}\"\u001b[0m\u001b[1;33m)\u001b[0m\u001b[1;33m\u001b[0m\u001b[1;33m\u001b[0m\u001b[0m\n",
      "\u001b[1;32m<ipython-input-6-0014adf91995>\u001b[0m in \u001b[0;36mBFGS\u001b[1;34m(x, f, g, h, max_iteration)\u001b[0m\n\u001b[0;32m     25\u001b[0m         \u001b[1;31m# if alpha is None:\u001b[0m\u001b[1;33m\u001b[0m\u001b[1;33m\u001b[0m\u001b[1;33m\u001b[0m\u001b[0m\n\u001b[0;32m     26\u001b[0m         \u001b[1;31m#     alpha = my_opt.backtracking_line_search(f, g, x, p)\u001b[0m\u001b[1;33m\u001b[0m\u001b[1;33m\u001b[0m\u001b[1;33m\u001b[0m\u001b[0m\n\u001b[1;32m---> 27\u001b[1;33m         \u001b[0ms\u001b[0m \u001b[1;33m=\u001b[0m \u001b[0malpha\u001b[0m \u001b[1;33m*\u001b[0m \u001b[0mp\u001b[0m\u001b[1;33m\u001b[0m\u001b[1;33m\u001b[0m\u001b[0m\n\u001b[0m\u001b[0;32m     28\u001b[0m         \u001b[0mx_new\u001b[0m \u001b[1;33m=\u001b[0m \u001b[0mx\u001b[0m \u001b[1;33m+\u001b[0m \u001b[0ms\u001b[0m\u001b[1;33m\u001b[0m\u001b[1;33m\u001b[0m\u001b[0m\n\u001b[0;32m     29\u001b[0m         \u001b[0mgradient_new\u001b[0m \u001b[1;33m=\u001b[0m \u001b[0mg\u001b[0m\u001b[1;33m(\u001b[0m\u001b[0mx_new\u001b[0m\u001b[1;33m)\u001b[0m\u001b[1;33m\u001b[0m\u001b[1;33m\u001b[0m\u001b[0m\n",
      "\u001b[1;31mTypeError\u001b[0m: unsupported operand type(s) for *: 'NoneType' and 'float'"
     ]
    }
   ],
   "source": [
    "input_data5 = np.array([100, 200, 600])\n",
    "f5_x, f5_final_y, f5_n_iteration, f5_convergence_line = BFGS(input_data5, bf.sum_different_powers,\n",
    "                                                             bf.sum_different_powers_gradient,\n",
    "                                                             bf.sum_different_powers_hessian)\n",
    "print(f\"final x: {f5_x}\")\n",
    "print(f\"final f(x):{f5_final_y}\")\n",
    "print(f\"n_iteration:{f5_n_iteration}\")\n",
    "plot(f5_convergence_line)"
   ]
  },
  {
   "cell_type": "code",
   "execution_count": 248,
   "metadata": {
    "pycharm": {
     "name": "#%%\n"
    }
   },
   "outputs": [],
   "source": []
  }
 ],
 "metadata": {
  "kernelspec": {
   "display_name": "Python 3",
   "language": "python",
   "name": "python3"
  },
  "language_info": {
   "codemirror_mode": {
    "name": "ipython",
    "version": 3
   },
   "file_extension": ".py",
   "mimetype": "text/x-python",
   "name": "python",
   "nbconvert_exporter": "python",
   "pygments_lexer": "ipython3",
   "version": "3.8.8"
  }
 },
 "nbformat": 4,
 "nbformat_minor": 1
}
